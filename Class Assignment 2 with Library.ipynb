{
 "cells": [
  {
   "cell_type": "code",
   "execution_count": 1,
   "id": "6f4b7380-7108-4087-9150-683790a38da0",
   "metadata": {},
   "outputs": [
    {
     "name": "stdout",
     "output_type": "stream",
     "text": [
      "Machine Learning\n",
      "Neural Networks\n",
      "Vision\n",
      "Robotics\n",
      "Speech Processing\n",
      "Natural Language Processing\n"
     ]
    }
   ],
   "source": [
    "# Create a class and function, and list out the items in the list\n",
    "from MultipleFunctionsAssignment import SubfieldsInAI\n",
    "SubfieldsInAI.Subfields(\"AI\")   "
   ]
  },
  {
   "cell_type": "code",
   "execution_count": 5,
   "id": "84ac39ef-bf80-45b3-b23e-fcee93422140",
   "metadata": {},
   "outputs": [
    {
     "name": "stdin",
     "output_type": "stream",
     "text": [
      "Enter the number 2343\n"
     ]
    },
    {
     "name": "stdout",
     "output_type": "stream",
     "text": [
      "2343 is an Odd Number\n"
     ]
    }
   ],
   "source": [
    "# Create a function that checks whether the given number is Odd or Even\n",
    "from MultipleFunctionsAssignment import OddEven\n",
    "OddEven.OddEven()"
   ]
  },
  {
   "cell_type": "code",
   "execution_count": 7,
   "id": "5c156818-c814-4a2c-997e-438e03a259e4",
   "metadata": {},
   "outputs": [
    {
     "name": "stdout",
     "output_type": "stream",
     "text": [
      "Your Gender: Female\n",
      "Your Age: 20\n",
      "ELIGIBLE\n"
     ]
    },
    {
     "data": {
      "text/plain": [
       "'ELIGIBLE'"
      ]
     },
     "execution_count": 7,
     "metadata": {},
     "output_type": "execute_result"
    }
   ],
   "source": [
    "# Create a function that tells elegibility of marriage for male and female according to their age limit like 21 for male and 18 for female\n",
    "from MultipleFunctionsAssignment import ElegiblityForMarriage\n",
    "ElegiblityForMarriage.Eligible(\"Female\",20)"
   ]
  },
  {
   "cell_type": "code",
   "execution_count": 8,
   "id": "e13c0dd9-7e4a-46f4-8ec1-7f0241b7cfb5",
   "metadata": {},
   "outputs": [
    {
     "name": "stdin",
     "output_type": "stream",
     "text": [
      "Subject 1 98\n",
      "Subject 2 66\n",
      "Subject 3 98\n",
      "Subject 4 78\n",
      "Subject 5 92\n"
     ]
    },
    {
     "name": "stdout",
     "output_type": "stream",
     "text": [
      "Your Total :  432\n",
      "Your Percentage :  86.4\n"
     ]
    },
    {
     "data": {
      "text/plain": [
       "86.4"
      ]
     },
     "execution_count": 8,
     "metadata": {},
     "output_type": "execute_result"
    }
   ],
   "source": [
    "# calculate the percentage of your 10th mark\n",
    "from MultipleFunctionsAssignment import FindPercent\n",
    "FindPercent.Percentage()"
   ]
  },
  {
   "cell_type": "code",
   "execution_count": 10,
   "id": "a58cf283-5102-4dc6-9e8a-8666a7817e03",
   "metadata": {},
   "outputs": [
    {
     "name": "stdin",
     "output_type": "stream",
     "text": [
      "Height :  32\n",
      "Breadth :  30\n"
     ]
    },
    {
     "name": "stdout",
     "output_type": "stream",
     "text": [
      "Area formula: (Height*Breadth)/2\n",
      "Area of Triangle:  480.0\n"
     ]
    },
    {
     "name": "stdin",
     "output_type": "stream",
     "text": [
      "Height1 :  5\n",
      "Height2 :  4\n",
      "Breadth :  4\n"
     ]
    },
    {
     "name": "stdout",
     "output_type": "stream",
     "text": [
      "Perimeter formula: Height1+Height2+Breadth\n",
      "Perimeter of Triangle: 13\n"
     ]
    }
   ],
   "source": [
    "#print area and perimeter of triangle using class and functions\n",
    "from MultipleFunctionsAssignment import triangle\n",
    "triangle.Triangle()"
   ]
  },
  {
   "cell_type": "code",
   "execution_count": null,
   "id": "747fb331-fee4-4eee-96cc-b77f4fca6246",
   "metadata": {},
   "outputs": [],
   "source": []
  }
 ],
 "metadata": {
  "kernelspec": {
   "display_name": "Python 3 (ipykernel)",
   "language": "python",
   "name": "python3"
  },
  "language_info": {
   "codemirror_mode": {
    "name": "ipython",
    "version": 3
   },
   "file_extension": ".py",
   "mimetype": "text/x-python",
   "name": "python",
   "nbconvert_exporter": "python",
   "pygments_lexer": "ipython3",
   "version": "3.11.7"
  }
 },
 "nbformat": 4,
 "nbformat_minor": 5
}
