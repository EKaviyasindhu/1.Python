{
 "cells": [
  {
   "cell_type": "code",
   "execution_count": null,
   "id": "28f8fb9d-6976-456f-a84b-f3bafc23e1bc",
   "metadata": {},
   "outputs": [],
   "source": [
    "#Baby Steps Assignment 1 - Control Structures "
   ]
  },
  {
   "cell_type": "code",
   "execution_count": 1,
   "id": "7935ac68-e9ad-4aea-a860-6bf59d830ef1",
   "metadata": {},
   "outputs": [
    {
     "name": "stdout",
     "output_type": "stream",
     "text": [
      "Wlecome to Assignment-1\n"
     ]
    }
   ],
   "source": [
    "print(\"Wlecome to Assignment-1\")"
   ]
  },
  {
   "cell_type": "code",
   "execution_count": 3,
   "id": "42cd1814-26ee-45e3-960c-aaa99aae4465",
   "metadata": {},
   "outputs": [
    {
     "name": "stdout",
     "output_type": "stream",
     "text": [
      "Num1 =  10\n",
      "Num2 =  30\n",
      "Add =  40\n"
     ]
    }
   ],
   "source": [
    "Num1= 10\n",
    "Num2= 30\n",
    "print(\"Num1 = \",Num1)\n",
    "print(\"Num2 = \",Num2)\n",
    "print(\"Add = \",Num1 + Num2)"
   ]
  },
  {
   "cell_type": "code",
   "execution_count": null,
   "id": "369cd8ba-224b-460c-aa68-b27f0dca36c2",
   "metadata": {},
   "outputs": [],
   "source": [
    "#Body Mass Index"
   ]
  },
  {
   "cell_type": "code",
   "execution_count": 21,
   "id": "aff79838-c5b1-466c-a397-f9df3488ffb6",
   "metadata": {},
   "outputs": [
    {
     "name": "stdin",
     "output_type": "stream",
     "text": [
      "Enter the BMI index :  28\n"
     ]
    },
    {
     "name": "stdout",
     "output_type": "stream",
     "text": [
      "overweight\n"
     ]
    }
   ],
   "source": [
    "bmi=float(input(\"Enter the BMI index : \"))\n",
    "if(bmi<= 18.4):\n",
    "    print(\"Underweight\")\n",
    "elif(bmi<=24.9):\n",
    "    print(\"Normal\")\n",
    "elif(bmi<=29.9):\n",
    "    print(\"overweight\")\n",
    "else:\n",
    "    print(\"Very overweight\")\n",
    "    #Obesity Level\n",
    "    if(bmi<= 34.9):\n",
    "        print(\"Obesity Class I\")\n",
    "    elif(bmi<=39.9):\n",
    "        print(\"Obesity Class II\")\n",
    "    else:\n",
    "        print(\"Extreme Obesity\")\n",
    "    "
   ]
  },
  {
   "cell_type": "code",
   "execution_count": null,
   "id": "5c9853a7-a505-4e79-b444-9ed1efcd8329",
   "metadata": {},
   "outputs": [],
   "source": []
  }
 ],
 "metadata": {
  "kernelspec": {
   "display_name": "Python 3 (ipykernel)",
   "language": "python",
   "name": "python3"
  },
  "language_info": {
   "codemirror_mode": {
    "name": "ipython",
    "version": 3
   },
   "file_extension": ".py",
   "mimetype": "text/x-python",
   "name": "python",
   "nbconvert_exporter": "python",
   "pygments_lexer": "ipython3",
   "version": "3.11.7"
  }
 },
 "nbformat": 4,
 "nbformat_minor": 5
}
