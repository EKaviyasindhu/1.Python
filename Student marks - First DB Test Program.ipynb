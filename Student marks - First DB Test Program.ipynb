{
 "cells": [
  {
   "cell_type": "code",
   "execution_count": 11,
   "id": "7244d3c1-517a-4e7c-aa03-8cad92e0aacb",
   "metadata": {},
   "outputs": [],
   "source": [
    "#Getting Student Marks\n",
    "import pymongo\n",
    "\n",
    "#create Database\n",
    "myclient=pymongo.MongoClient(\"mongodb://localhost:27017\")\n",
    "mydb = myclient[\"mystudendatabase\"]\n",
    "\n",
    "#Create Collection\n",
    "mycol = mydb[\"students\"]"
   ]
  },
  {
   "cell_type": "code",
   "execution_count": 108,
   "id": "639abbda-2e78-4627-8ca8-b7630f3c7ba5",
   "metadata": {},
   "outputs": [
    {
     "name": "stdin",
     "output_type": "stream",
     "text": [
      "Enter Number of Students : 1\n",
      "Enter Student ID :  4\n",
      "Enter Student Name :  Tanvi\n",
      "Enter Mark1 :  77\n",
      "Enter Mark2 :  88\n",
      "Enter Mark3 :  56\n",
      "Enter Mark4 :  67\n",
      "Enter Mark5 :  88\n"
     ]
    }
   ],
   "source": [
    "#Getting Student Details\n",
    "numofStudents = int(input(\"Enter Number of Students :\"))\n",
    "for x in range(numofStudents):\n",
    "    studentid = input(\"Enter Student ID : \")\n",
    "    studentname = input(\"Enter Student Name : \")\n",
    "    mark1 = int(input(\"Enter Mark1 : \"))\n",
    "    mark2 = int(input(\"Enter Mark2 : \"))\n",
    "    mark3 = int(input(\"Enter Mark3 : \"))\n",
    "    mark4 = int(input(\"Enter Mark4 : \"))\n",
    "    mark5 = int(input(\"Enter Mark5 : \"))\n",
    "\n",
    "    total =  int(mark1 + mark2 + mark3 + mark4 + mark5)\n",
    "    percentage = int(total / 5)\n",
    "\n",
    "    if list(mycol.find({\"studentid\": {\"$eq\" : studentid}})):        \n",
    "        mycol.update_one({\"studentid\" : studentid},\n",
    "                         {\n",
    "                            \"$set\" : {\"studentname\" : studentname, \n",
    "                            \"Mark1\" : mark1, \n",
    "                            \"Mark2\" : mark2, \n",
    "                            \"Mark3\" : mark3, \n",
    "                            \"Mark4\" : mark4, \n",
    "                            \"Mark5\" : mark5, \n",
    "                            \"Total\" : total, \n",
    "                            \"Percentage\" : percentage, \n",
    "                            \"Result\" : \"\" }\n",
    "                         })        \n",
    "    else:\n",
    "        mydict = {\"studentid\" : studentid, \"studentname\" : studentname, \"Mark1\" : mark1, \"Mark2\" : mark2, \"Mark3\" : mark3, \"Mark4\" : mark4, \"Mark5\" : mark5, \"Total\" : total, \"Percentage\" : percentage, \"Result\" : \"\" }\n",
    "        dbinsert=mycol.insert_one(mydict)        \n",
    "        "
   ]
  },
  {
   "cell_type": "code",
   "execution_count": 109,
   "id": "66cbbe9f-40c2-4ca4-bbdf-20891716e8ef",
   "metadata": {},
   "outputs": [],
   "source": [
    "#Select Values from Database\n",
    "for col in mycol.find({}, {\"_id\": 0, \"studentid\":1, \"Mark1\": 1, \"Mark2\": 1, \"Mark3\": 1, \"Mark4\": 1, \"Mark5\": 1}):\n",
    "    dbstudentid = col[\"studentid\"]\n",
    "    dbMark1 = int(col[\"Mark1\"])\n",
    "    dbMark2 = int(col[\"Mark2\"])\n",
    "    dbMark3 = int(col[\"Mark3\"])\n",
    "    dbMark4 = int(col[\"Mark4\"])\n",
    "    dbMark5 = int(col[\"Mark5\"])\n",
    "    \n",
    "    myquery={\"studentid\" : dbstudentid}\n",
    "    if(dbMark1 < 35 or dbMark2 < 35 or dbMark3 < 35 or dbMark4 < 35 or dbMark5 < 35):        \n",
    "        newvalues = {\"$set\" : {\"Result\" : \"FAIL\"}}\n",
    "        mycol.update_one(myquery,newvalues)        \n",
    "    else:\n",
    "        newvalues = {\"$set\" : {\"Result\" : \"PASS\"}}        \n",
    "        mycol.update_one(myquery,newvalues)        \n",
    "        "
   ]
  },
  {
   "cell_type": "code",
   "execution_count": 110,
   "id": "606ebf02-6de2-48a3-a0f1-6c0a3a44c2e4",
   "metadata": {},
   "outputs": [
    {
     "name": "stdout",
     "output_type": "stream",
     "text": [
      "STUDENT DETAILS\n",
      "\n",
      "Student ID : 1\n",
      "Student Name : Kaviya \n",
      "Mark1 :  98 \n",
      "Mark2 :  87 \n",
      "Mark3 :  78 \n",
      "Mark4 :  67 \n",
      "Mark5 :  55 \n",
      "Total :  385 \n",
      "Percentage :  77 Result: PASS \n",
      "\n",
      "\n",
      "Student ID : 2\n",
      "Student Name : Durga \n",
      "Mark1 :  34 \n",
      "Mark2 :  44 \n",
      "Mark3 :  55 \n",
      "Mark4 :  66 \n",
      "Mark5 :  78 \n",
      "Total :  277 \n",
      "Percentage :  55 Result: FAIL \n",
      "\n",
      "\n",
      "Student ID : 3\n",
      "Student Name : Usha \n",
      "Mark1 :  45 \n",
      "Mark2 :  67 \n",
      "Mark3 :  44 \n",
      "Mark4 :  56 \n",
      "Mark5 :  78 \n",
      "Total :  290 \n",
      "Percentage :  58 Result: PASS \n",
      "\n",
      "\n",
      "Student ID : 4\n",
      "Student Name : Tanvi \n",
      "Mark1 :  77 \n",
      "Mark2 :  88 \n",
      "Mark3 :  56 \n",
      "Mark4 :  67 \n",
      "Mark5 :  88 \n",
      "Total :  376 \n",
      "Percentage :  75 Result: PASS \n",
      "\n"
     ]
    }
   ],
   "source": [
    "#Print Student Details\n",
    "print(\"STUDENT DETAILS\")\n",
    "for col1 in mycol.find():\n",
    "    print(\"\\nStudent ID :\", col1[\"studentid\"] +\n",
    "          \"\\nStudent Name : \" + col1[\"studentname\"] ,\n",
    "          \"\\nMark1 : \", col1[\"Mark1\"],\n",
    "          \"\\nMark2 : \", col1[\"Mark2\"],\n",
    "          \"\\nMark3 : \", col1[\"Mark3\"],\n",
    "          \"\\nMark4 : \", col1[\"Mark4\"],\n",
    "          \"\\nMark5 : \", col1[\"Mark5\"],\n",
    "          \"\\nTotal : \", col1[\"Total\"],\n",
    "          \"\\nPercentage : \",col1[\"Percentage\"],\n",
    "          \"Result:\", col1[\"Result\"], \"\\n\")"
   ]
  },
  {
   "cell_type": "code",
   "execution_count": null,
   "id": "7c8fe47d-2f7b-4a08-8931-2aa17d77f9ee",
   "metadata": {},
   "outputs": [],
   "source": []
  }
 ],
 "metadata": {
  "kernelspec": {
   "display_name": "Python 3 (ipykernel)",
   "language": "python",
   "name": "python3"
  },
  "language_info": {
   "codemirror_mode": {
    "name": "ipython",
    "version": 3
   },
   "file_extension": ".py",
   "mimetype": "text/x-python",
   "name": "python",
   "nbconvert_exporter": "python",
   "pygments_lexer": "ipython3",
   "version": "3.11.7"
  }
 },
 "nbformat": 4,
 "nbformat_minor": 5
}
