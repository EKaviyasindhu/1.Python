{
 "cells": [
  {
   "cell_type": "code",
   "execution_count": 3,
   "id": "385c2967-e2bc-49cd-bc04-76102d7d175a",
   "metadata": {},
   "outputs": [
    {
     "name": "stdout",
     "output_type": "stream",
     "text": [
      "Machine Learning\n",
      "Neural Networks\n",
      "Vision\n",
      "Robotics\n",
      "Speech Processing\n",
      "Natural Language Processing\n"
     ]
    }
   ],
   "source": [
    "# Create a class and function, and list out the items in the list\n",
    "class SubfieldsInAI:\n",
    "    def Subfields(str):\n",
    "        if(str == \"AI\"):\n",
    "            SubfieldsAI = [\"Machine Learning\",\"Neural Networks\", \"Vision\", \"Robotics\", \n",
    "                           \"Speech Processing\", \"Natural Language Processing\"]\n",
    "            for field in SubfieldsAI:\n",
    "                print(field)\n",
    "                \n",
    "SubfieldsInAI.Subfields(\"AI\")         "
   ]
  },
  {
   "cell_type": "code",
   "execution_count": 5,
   "id": "2cdce07e-7303-4315-a58f-b90bdd1d240c",
   "metadata": {},
   "outputs": [
    {
     "name": "stdin",
     "output_type": "stream",
     "text": [
      "Enter the number 52452\n"
     ]
    },
    {
     "name": "stdout",
     "output_type": "stream",
     "text": [
      "52452 is an Even Number\n"
     ]
    },
    {
     "data": {
      "text/plain": [
       "'Even Number'"
      ]
     },
     "execution_count": 5,
     "metadata": {},
     "output_type": "execute_result"
    }
   ],
   "source": [
    "# Create a function that checks whether the given number is Odd or Even\n",
    "class OddEven():\n",
    "    def OddEven():\n",
    "        num = int(input(\"Enter the number\"))\n",
    "        if((num%2)==1):\n",
    "            print(num, \"is an Odd Number\")\n",
    "            message = \"Odd Number\"\n",
    "        else:\n",
    "            print(num, \"is an Even Number\")\n",
    "            message = \"Even Number\"\n",
    "            return message\n",
    "\n",
    "OddEven.OddEven()"
   ]
  },
  {
   "cell_type": "code",
   "execution_count": 8,
   "id": "4e503e32-b347-43db-9b94-3c7dfc883e86",
   "metadata": {},
   "outputs": [
    {
     "name": "stdout",
     "output_type": "stream",
     "text": [
      "Your Gender: Male\n",
      "Your Age: 20\n",
      "NOT ELIGIBLE\n"
     ]
    },
    {
     "data": {
      "text/plain": [
       "'NOT ELIGIBLE'"
      ]
     },
     "execution_count": 8,
     "metadata": {},
     "output_type": "execute_result"
    }
   ],
   "source": [
    "# Create a function that tells elegibility of marriage for male and female according to their age limit like 21 for male and 18 for female\n",
    "class ElegiblityForMarriage():\n",
    "    def Eligible(strGender, intAge):\n",
    "        print(\"Your Gender:\",strGender)\n",
    "        print(\"Your Age:\",intAge) \n",
    "        \n",
    "        if(strGender==\"Male\"):            \n",
    "            if(intAge < 21):\n",
    "                print(\"NOT ELIGIBLE\")\n",
    "                message = \"NOT ELIGIBLE\"\n",
    "            else:\n",
    "                print(\"ELIGIBLE\")\n",
    "                message = \"ELIGIBLE\"\n",
    "                \n",
    "        elif(strGender==\"Female\"):\n",
    "                if(intAge < 18):\n",
    "                    print(\"NOT ELIGIBLE\")\n",
    "                    message = \"NOT ELIGIBLE\"\n",
    "                else:\n",
    "                    print(\"ELIGIBLE\")\n",
    "                    message = \"ELIGIBLE\"\n",
    "        return message\n",
    "\n",
    "ElegiblityForMarriage.Eligible(\"Male\",20)\n"
   ]
  },
  {
   "cell_type": "code",
   "execution_count": 10,
   "id": "e8cab49a-ff47-4e88-908e-3dc37d0c1f5b",
   "metadata": {},
   "outputs": [
    {
     "name": "stdin",
     "output_type": "stream",
     "text": [
      "Subject 1 98\n",
      "Subject 2 87\n",
      "Subject 3 95\n",
      "Subject 4 95\n",
      "Subject 5 93\n"
     ]
    },
    {
     "name": "stdout",
     "output_type": "stream",
     "text": [
      "Your Total :  468\n",
      "Your Percentage :  93.6\n"
     ]
    },
    {
     "data": {
      "text/plain": [
       "93.6"
      ]
     },
     "execution_count": 10,
     "metadata": {},
     "output_type": "execute_result"
    }
   ],
   "source": [
    "# calculate the percentage of your 10th mark\n",
    "class FindPercent():\n",
    "    def Percentage():\n",
    "        intSub1 = int(input(\"Subject 1\"))\n",
    "        intSub2 = int(input(\"Subject 2\"))\n",
    "        intSub3 = int(input(\"Subject 3\"))\n",
    "        intSub4 = int(input(\"Subject 4\"))\n",
    "        intSub5 = int(input(\"Subject 5\"))\n",
    "        Total = intSub1 + intSub2 + intSub3 + intSub4 + intSub5\n",
    "        percentage = Total / 5\n",
    "        print(\"Your Total : \", Total)\n",
    "        print(\"Your Percentage : \", percentage)\n",
    "        return percentage\n",
    "\n",
    "FindPercent.Percentage()"
   ]
  },
  {
   "cell_type": "code",
   "execution_count": 11,
   "id": "29a4f5c6-c7ce-4d12-9031-68e64a4c349c",
   "metadata": {},
   "outputs": [
    {
     "name": "stdin",
     "output_type": "stream",
     "text": [
      "Height :  32\n",
      "Breadth :  34\n"
     ]
    },
    {
     "name": "stdout",
     "output_type": "stream",
     "text": [
      "Area formula: (Height*Breadth)/2\n",
      "Area of Triangle:  544.0\n"
     ]
    },
    {
     "name": "stdin",
     "output_type": "stream",
     "text": [
      "Height1 :  2\n",
      "Height2 :  4\n",
      "Breadth :  4\n"
     ]
    },
    {
     "name": "stdout",
     "output_type": "stream",
     "text": [
      "Perimeter formula: Height1+Height2+Breadth\n",
      "Perimeter of Triangle: 10\n"
     ]
    }
   ],
   "source": [
    "#print area and perimeter of triangle using class and functions\n",
    "class triangle():\n",
    "    def Triangle():\n",
    "        Height = int(input(\"Height : \"))\n",
    "        Breadth = int(input(\"Breadth : \"))\n",
    "        Area = (Height*Breadth)/2\n",
    "        print(\"Area formula: (Height*Breadth)/2\")\n",
    "        print(\"Area of Triangle: \", Area)\n",
    "        Height1 = int(input(\"Height1 : \"))\n",
    "        Height2 = int(input(\"Height2 : \"))\n",
    "        Breadth1 = int(input(\"Breadth : \"))\n",
    "        Perimeter = Height1+Height2+Breadth1\n",
    "        print(\"Perimeter formula: Height1+Height2+Breadth\")\n",
    "        print(\"Perimeter of Triangle:\", Perimeter)\n",
    "\n",
    "triangle.Triangle()"
   ]
  },
  {
   "cell_type": "code",
   "execution_count": null,
   "id": "9ed2d751-0adb-4515-943d-47d8975454ef",
   "metadata": {},
   "outputs": [],
   "source": []
  }
 ],
 "metadata": {
  "kernelspec": {
   "display_name": "Python 3 (ipykernel)",
   "language": "python",
   "name": "python3"
  },
  "language_info": {
   "codemirror_mode": {
    "name": "ipython",
    "version": 3
   },
   "file_extension": ".py",
   "mimetype": "text/x-python",
   "name": "python",
   "nbconvert_exporter": "python",
   "pygments_lexer": "ipython3",
   "version": "3.11.7"
  }
 },
 "nbformat": 4,
 "nbformat_minor": 5
}
