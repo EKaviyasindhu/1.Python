{
 "cells": [
  {
   "cell_type": "code",
   "execution_count": 2,
   "id": "70022133-10cc-427a-9913-4276bcbf4cdd",
   "metadata": {},
   "outputs": [
    {
     "name": "stdout",
     "output_type": "stream",
     "text": [
      "0\n",
      "1\n",
      "2\n",
      "3\n",
      "4\n",
      "5\n",
      "6\n",
      "7\n",
      "8\n",
      "9\n",
      "10\n",
      "11\n",
      "12\n",
      "13\n",
      "14\n",
      "15\n",
      "16\n",
      "17\n",
      "18\n",
      "19\n"
     ]
    }
   ],
   "source": [
    "# print 0 to 20 by using range\n",
    "for num in range(0,20):\n",
    "    print(num)"
   ]
  },
  {
   "cell_type": "code",
   "execution_count": 3,
   "id": "9fda4bd4-e9c8-4d98-b273-3e4d903f90bb",
   "metadata": {},
   "outputs": [
    {
     "name": "stdout",
     "output_type": "stream",
     "text": [
      "10\n",
      "11\n",
      "12\n",
      "13\n",
      "14\n",
      "15\n",
      "16\n",
      "17\n",
      "18\n",
      "19\n"
     ]
    }
   ],
   "source": [
    "# print range 10 to 20\n",
    "for num1 in range(10,20):\n",
    "    print(num1)"
   ]
  },
  {
   "cell_type": "code",
   "execution_count": 4,
   "id": "5344b0f4-8de5-4099-bf89-b050d6520038",
   "metadata": {},
   "outputs": [
    {
     "name": "stdout",
     "output_type": "stream",
     "text": [
      "Number of item in the List2: 7\n"
     ]
    }
   ],
   "source": [
    "# Print number of items in the list by using 'len'\n",
    "List2 = [10, 20, 14, 55, 43, 87, 76]\n",
    "NumOfItems = len(List2)\n",
    "print(\"Number of item in the List2:\",NumOfItems)"
   ]
  },
  {
   "cell_type": "code",
   "execution_count": 8,
   "id": "0112639d-99eb-4518-9ca2-923902a22a7c",
   "metadata": {},
   "outputs": [
    {
     "name": "stdout",
     "output_type": "stream",
     "text": [
      "A\n",
      "r\n",
      "t\n",
      "i\n",
      "f\n",
      "i\n",
      "c\n",
      "i\n",
      "a\n",
      "l\n",
      " \n",
      "I\n",
      "n\n",
      "t\n",
      "e\n",
      "l\n",
      "l\n",
      "i\n",
      "g\n",
      "e\n",
      "n\n",
      "c\n",
      "e\n"
     ]
    }
   ],
   "source": [
    "#Split String into characters\n",
    "string = \"Artificial Intelligence\"\n",
    "for splitChar in list(string):\n",
    "    print(splitChar)\n"
   ]
  },
  {
   "cell_type": "code",
   "execution_count": 23,
   "id": "91985d85-d268-4a1c-962f-476ca8bd82f5",
   "metadata": {},
   "outputs": [
    {
     "name": "stdin",
     "output_type": "stream",
     "text": [
      "Enter your Name : Kaviya Sindhu\n",
      "Enter your Age : 33\n",
      "Enter your Profession: Developer\n"
     ]
    },
    {
     "name": "stdout",
     "output_type": "stream",
     "text": [
      "-Kaviya Sindhu-\n",
      "-33-\n",
      "-Developer-\n"
     ]
    }
   ],
   "source": [
    "#Inserting Characters to start and end of the string\n",
    "#-Your Name-\n",
    "#-Your Age-\n",
    "#-Your Profession-\n",
    "\n",
    "strName= input(\"Enter your Name :\")\n",
    "intAge = int(input(\"Enter your Age :\"))\n",
    "strProfession = input(\"Enter your Profession:\")    \n",
    "print(\"-\" + strName + \"-\")\n",
    "print(\"-\" + str(intAge) + \"-\")\n",
    "print(\"-\" + strProfession + \"-\")"
   ]
  },
  {
   "cell_type": "code",
   "execution_count": 24,
   "id": "882851cb-b544-4521-806d-b4880998f6c1",
   "metadata": {},
   "outputs": [
    {
     "name": "stdout",
     "output_type": "stream",
     "text": [
      "(1, 'Welcome', 2, 'Hope')\n"
     ]
    }
   ],
   "source": [
    "#Tuples - (1, 'Welcome', 2, 'Hope')\n",
    "Tuple = (1, 'Welcome', 2, 'Hope')\n",
    "print(Tuple)"
   ]
  },
  {
   "cell_type": "code",
   "execution_count": 25,
   "id": "94847b81-15a9-4ba7-9f16-e53d6f02e724",
   "metadata": {},
   "outputs": [
    {
     "name": "stdout",
     "output_type": "stream",
     "text": [
      "((0, 1, 2, 3), ('python', 'HOPE'))\n"
     ]
    }
   ],
   "source": [
    "#((0, 1, 2, 3), ('python', 'HOPE'))\n",
    "Tuple1 = (0, 1, 2, 3)\n",
    "Tuple2 = ('python', 'HOPE')\n",
    "Tuple3 = (Tuple1, Tuple2)\n",
    "print(Tuple3)"
   ]
  },
  {
   "cell_type": "code",
   "execution_count": 26,
   "id": "2c56883d-dc9b-4fda-941e-6e36c4d01298",
   "metadata": {},
   "outputs": [
    {
     "name": "stdout",
     "output_type": "stream",
     "text": [
      "19 is odd\n",
      "25 is odd\n",
      "1 is odd\n"
     ]
    }
   ],
   "source": [
    "# print Odd Numbers in the list\n",
    "#(20,10,16,19,25,1,276,188)\n",
    "list=(20,10,16,19,25,1,276,188)\n",
    "for num in list:\n",
    "    if(num % 2 == 1):\n",
    "        print(num,\"is odd\")"
   ]
  },
  {
   "cell_type": "code",
   "execution_count": 27,
   "id": "10735a94-dcc8-458d-b19a-38a483d7aacd",
   "metadata": {},
   "outputs": [
    {
     "name": "stdout",
     "output_type": "stream",
     "text": [
      "20 is Even\n",
      "10 is Even\n",
      "16 is Even\n",
      "276 is Even\n",
      "188 is Even\n"
     ]
    }
   ],
   "source": [
    "# print Even Numbers in the list\n",
    "#(20,10,16,19,25,1,276,188)\n",
    "list1=(20,10,16,19,25,1,276,188)\n",
    "for num1 in list1:\n",
    "    if(num1 % 2 == 0):\n",
    "        print(num1,\"is Even\")"
   ]
  },
  {
   "cell_type": "code",
   "execution_count": null,
   "id": "34646c28-c3d1-41bb-8447-5ed58c690980",
   "metadata": {},
   "outputs": [],
   "source": []
  }
 ],
 "metadata": {
  "kernelspec": {
   "display_name": "Python 3 (ipykernel)",
   "language": "python",
   "name": "python3"
  },
  "language_info": {
   "codemirror_mode": {
    "name": "ipython",
    "version": 3
   },
   "file_extension": ".py",
   "mimetype": "text/x-python",
   "name": "python",
   "nbconvert_exporter": "python",
   "pygments_lexer": "ipython3",
   "version": "3.11.7"
  }
 },
 "nbformat": 4,
 "nbformat_minor": 5
}
