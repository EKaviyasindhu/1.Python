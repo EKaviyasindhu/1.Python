{
 "cells": [
  {
   "cell_type": "code",
   "execution_count": 15,
   "id": "98220ff2-9f26-44da-a300-fe6762e06bf5",
   "metadata": {},
   "outputs": [
    {
     "name": "stdin",
     "output_type": "stream",
     "text": [
      "Enter the Value: 10\n"
     ]
    },
    {
     "name": "stdout",
     "output_type": "stream",
     "text": [
      "Value :  10 \n",
      "CORRECT\n"
     ]
    }
   ],
   "source": [
    "# print 'CORRECT' if i == 10\n",
    "i = int(input(\"Enter the Value:\"))\n",
    "if(i==10):\n",
    "    print(\"Value : \", i , \"\\nCORRECT\")"
   ]
  },
  {
   "cell_type": "code",
   "execution_count": 19,
   "id": "c4f1a088-fd53-4c4d-824c-ecc8cf2a9aa2",
   "metadata": {},
   "outputs": [
    {
     "name": "stdin",
     "output_type": "stream",
     "text": [
      "Enter your password: HOPE@123\n"
     ]
    },
    {
     "name": "stdout",
     "output_type": "stream",
     "text": [
      "Your Password is Correct\n"
     ]
    }
   ],
   "source": [
    "# Check the password, using if and else\n",
    "myPwd = \"HOPE@123\"\n",
    "Password = input(\"Enter your password:\")\n",
    "if(myPwd == Password):\n",
    "    print(\"Your Password is Correct\")\n",
    "else:\n",
    "    print(\"Your Password is Incorrect\")\n",
    "    "
   ]
  },
  {
   "cell_type": "code",
   "execution_count": 25,
   "id": "69ae2f37-831e-4db2-91c4-f1f51bcc1aa3",
   "metadata": {},
   "outputs": [
    {
     "name": "stdin",
     "output_type": "stream",
     "text": [
      "Enter your Age :  20\n"
     ]
    },
    {
     "name": "stdout",
     "output_type": "stream",
     "text": [
      "Adult\n"
     ]
    }
   ],
   "source": [
    "# Catagory the people by their age like children, adult, citizen, senior citizen...\n",
    "age = int(input(\"Enter your Age : \"))\n",
    "if(age<18):\n",
    "    print(\"Children\")\n",
    "elif(age<35):\n",
    "    print(\"Adult\")\n",
    "elif(age<59):\n",
    "    print(\"Citizen\")\n",
    "else:\n",
    "    print(\"Senior Citizen\")"
   ]
  },
  {
   "cell_type": "code",
   "execution_count": 29,
   "id": "8666e837-d4fd-49b0-a063-08b3e688b158",
   "metadata": {},
   "outputs": [
    {
     "name": "stdin",
     "output_type": "stream",
     "text": [
      "Enter the number 8\n"
     ]
    },
    {
     "name": "stdout",
     "output_type": "stream",
     "text": [
      "Your number is Positive\n"
     ]
    }
   ],
   "source": [
    " # Find whether given number is positive or negative\n",
    "num = int(input(\"Enter the number\"))\n",
    "if(num >= 0):\n",
    "    print(\"Your number is Positive\")\n",
    "else:\n",
    "    print(\"Your number is Negative\")"
   ]
  },
  {
   "cell_type": "code",
   "execution_count": 32,
   "id": "40afb2cb-408d-47cf-916c-ceb7c89ba811",
   "metadata": {},
   "outputs": [
    {
     "name": "stdin",
     "output_type": "stream",
     "text": [
      "Enter the number 22\n"
     ]
    },
    {
     "name": "stdout",
     "output_type": "stream",
     "text": [
      "22 is not divisible by 5\n"
     ]
    }
   ],
   "source": [
    "# Check whether the given number is divisible by 5\n",
    "DivNum = int(input(\"Enter the number\"))\n",
    "if((DivNum % 5) == 0):\n",
    "    print(DivNum, \"is divisible by 5\")\n",
    "else:\n",
    "    print(DivNum, \"is not divisible by 5\")"
   ]
  },
  {
   "cell_type": "code",
   "execution_count": null,
   "id": "958e9935-4040-414f-9715-8901d46af437",
   "metadata": {},
   "outputs": [],
   "source": []
  }
 ],
 "metadata": {
  "kernelspec": {
   "display_name": "Python 3 (ipykernel)",
   "language": "python",
   "name": "python3"
  },
  "language_info": {
   "codemirror_mode": {
    "name": "ipython",
    "version": 3
   },
   "file_extension": ".py",
   "mimetype": "text/x-python",
   "name": "python",
   "nbconvert_exporter": "python",
   "pygments_lexer": "ipython3",
   "version": "3.11.7"
  }
 },
 "nbformat": 4,
 "nbformat_minor": 5
}
