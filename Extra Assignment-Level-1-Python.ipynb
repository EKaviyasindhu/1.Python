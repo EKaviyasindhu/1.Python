{
 "cells": [
  {
   "cell_type": "code",
   "execution_count": 1,
   "id": "e60914af-2ced-4bdc-a482-110f23a77a22",
   "metadata": {},
   "outputs": [
    {
     "name": "stdout",
     "output_type": "stream",
     "text": [
      "HOPE AI\n"
     ]
    }
   ],
   "source": [
    "#1.print Statement\n",
    "print(\"HOPE AI\")"
   ]
  },
  {
   "cell_type": "code",
   "execution_count": 5,
   "id": "e2705dfc-8085-42ee-b6a8-4a0a03b6db4e",
   "metadata": {},
   "outputs": [
    {
     "name": "stdin",
     "output_type": "stream",
     "text": [
      "Enter your institute name? : HOPE AI\n"
     ]
    },
    {
     "name": "stdout",
     "output_type": "stream",
     "text": [
      "HOPE AI\n"
     ]
    }
   ],
   "source": [
    "#2.Buy input\n",
    "strInstituteName = input(\"Enter your institute name? :\")\n",
    "print(strInstituteName)"
   ]
  },
  {
   "cell_type": "code",
   "execution_count": 15,
   "id": "c4187d5e-a20d-4c11-88c8-c65329af061b",
   "metadata": {},
   "outputs": [
    {
     "name": "stdin",
     "output_type": "stream",
     "text": [
      "Enter your Name : Kaviya Sindhu\n",
      "Enter your Age : 33\n",
      "Enter your School Name :  Bishop School\n",
      "Enter your Degree :  B.Tech\n"
     ]
    },
    {
     "name": "stdout",
     "output_type": "stream",
     "text": [
      "Kaviya Sindhu\n",
      "33\n",
      "Bishop School\n",
      "B.Tech\n"
     ]
    }
   ],
   "source": [
    "#3.Buy inputs\n",
    "strName = input(\"Enter your Name :\")\n",
    "intAge = int(input(\"Enter your Age :\"))\n",
    "strSchoolName = input(\"Enter your School Name : \")\n",
    "strDegree = input(\"Enter your Degree : \")\n",
    "print(strName + \"\\n\" + str(intAge)  + \"\\n\" + strSchoolName + \"\\n\" + strDegree)"
   ]
  },
  {
   "cell_type": "code",
   "execution_count": 17,
   "id": "9ed1ee4c-157c-44f5-99bb-7e4a9dc07986",
   "metadata": {},
   "outputs": [
    {
     "name": "stdin",
     "output_type": "stream",
     "text": [
      "Enter Number 1 : 43\n",
      "Enter Number 2 : 34\n"
     ]
    },
    {
     "name": "stdout",
     "output_type": "stream",
     "text": [
      "Addition of Two Numbers : 77\n"
     ]
    }
   ],
   "source": [
    "#4.Addition\n",
    "intNum1 = int(input(\"Enter Number 1 :\"))\n",
    "intNum2 = int(input(\"Enter Number 2 :\"))\n",
    "print(\"Addition of Two Numbers :\", intNum1 + intNum2)"
   ]
  },
  {
   "cell_type": "code",
   "execution_count": 19,
   "id": "66c388fa-3b8c-4fcf-b2d0-777012ca5a8d",
   "metadata": {},
   "outputs": [
    {
     "name": "stdin",
     "output_type": "stream",
     "text": [
      "Enter Number 1 : 43\n",
      "Enter Number 2 : 34\n"
     ]
    },
    {
     "name": "stdout",
     "output_type": "stream",
     "text": [
      "Subtraction of Two Numbers : 9\n"
     ]
    }
   ],
   "source": [
    "#5.Subtraction\n",
    "intSubNum1 = int(input(\"Enter Number 1 :\"))\n",
    "intSubNum2 = int(input(\"Enter Number 2 :\"))\n",
    "print(\"Subtraction of Two Numbers :\", intSubNum1 - intSubNum2)"
   ]
  },
  {
   "cell_type": "code",
   "execution_count": 20,
   "id": "7223ae08-ec3f-43d3-82b1-46adff8f298b",
   "metadata": {},
   "outputs": [
    {
     "name": "stdin",
     "output_type": "stream",
     "text": [
      "Enter Number 1 : 63\n",
      "Enter Number 2 : 97\n"
     ]
    },
    {
     "name": "stdout",
     "output_type": "stream",
     "text": [
      "Multiplication of Two Numbers : 6111\n"
     ]
    }
   ],
   "source": [
    "#6.Multiplication\n",
    "intMulNum1 = int(input(\"Enter Number 1 :\"))\n",
    "intMulNum2 = int(input(\"Enter Number 2 :\"))\n",
    "print(\"Multiplication of Two Numbers :\", intMulNum1 * intMulNum2)"
   ]
  },
  {
   "cell_type": "code",
   "execution_count": 31,
   "id": "3b8209a3-be70-4fb8-b212-84c98858d69a",
   "metadata": {},
   "outputs": [
    {
     "name": "stdin",
     "output_type": "stream",
     "text": [
      "Enter Number 1 : 76\n",
      "Enter Number 2 : 31\n"
     ]
    },
    {
     "name": "stdout",
     "output_type": "stream",
     "text": [
      "Division of Two Numbers : 2.4516129032258065\n",
      "Division of Two Numbers : 2.4516129032258065\n"
     ]
    }
   ],
   "source": [
    "#7.Division\n",
    "intDivNum1 = int(input(\"Enter Number 1 :\"))\n",
    "intDivNum2 = int(input(\"Enter Number 2 :\"))\n",
    "print(\"Division of Two Numbers :\", float(intDivNum1 / intDivNum2))\n",
    "print(\"Division of Two Numbers :\", intDivNum1 / intDivNum2) #check"
   ]
  },
  {
   "cell_type": "code",
   "execution_count": 33,
   "id": "477e7382-0cb0-46f6-9aa3-e004cfa9d8d3",
   "metadata": {},
   "outputs": [
    {
     "name": "stdin",
     "output_type": "stream",
     "text": [
      "Enter Number 1 : 76\n",
      "Enter Number 2 : 31\n"
     ]
    },
    {
     "name": "stdout",
     "output_type": "stream",
     "text": [
      "Floor Division of Two Numbers : 2\n"
     ]
    }
   ],
   "source": [
    "#8.Floor Division\n",
    "intFlrDivNum1 = int(input(\"Enter Number 1 :\")) \n",
    "intFlrDivNum2 = int(input(\"Enter Number 2 :\")) \n",
    "print(\"Floor Division of Two Numbers :\", intFlrDivNum1 // intFlrDivNum2)"
   ]
  },
  {
   "cell_type": "code",
   "execution_count": 34,
   "id": "0adc18d9-90b7-432d-b707-258bade59255",
   "metadata": {},
   "outputs": [
    {
     "name": "stdin",
     "output_type": "stream",
     "text": [
      "Enter Number 1 : 76\n",
      "Enter Number 2 : 31\n"
     ]
    },
    {
     "name": "stdout",
     "output_type": "stream",
     "text": [
      "Modulo of Two Numbers : 14\n"
     ]
    }
   ],
   "source": [
    "#9.Modulo\n",
    "intModNum1 = int(input(\"Enter Number 1 :\"))\n",
    "intModNum2 = int(input(\"Enter Number 2 :\"))\n",
    "print(\"Modulo of Two Numbers :\", intModNum1 % intModNum2)"
   ]
  },
  {
   "cell_type": "code",
   "execution_count": null,
   "id": "cf50c1c4-670c-45ca-9a43-948eaa5b85f8",
   "metadata": {},
   "outputs": [],
   "source": [
    "#10.Power\n",
    "intPowNum1 = int(input(\"Enter Number 1:\"))\n",
    "intPowNum2 = int(input(\"Enter Number 2:\"))\n",
    "print"
   ]
  }
 ],
 "metadata": {
  "kernelspec": {
   "display_name": "Python 3 (ipykernel)",
   "language": "python",
   "name": "python3"
  },
  "language_info": {
   "codemirror_mode": {
    "name": "ipython",
    "version": 3
   },
   "file_extension": ".py",
   "mimetype": "text/x-python",
   "name": "python",
   "nbconvert_exporter": "python",
   "pygments_lexer": "ipython3",
   "version": "3.11.7"
  }
 },
 "nbformat": 4,
 "nbformat_minor": 5
}
