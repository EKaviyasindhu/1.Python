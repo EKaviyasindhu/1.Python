{
 "cells": [
  {
   "cell_type": "code",
   "execution_count": 26,
   "id": "3c35a73d-47a4-4df3-98f7-adf13e824589",
   "metadata": {},
   "outputs": [
    {
     "name": "stdout",
     "output_type": "stream",
     "text": [
      "Machine Learning\n",
      "Neural Networks\n",
      "Vision\n",
      "Robotics\n",
      "Speech Processing\n",
      "Natural Language Processing\n"
     ]
    }
   ],
   "source": [
    "#Subfields\n",
    "def Subfields(str):\n",
    "    if(str == \"AI\"):\n",
    "        SubfieldsAI = [\"Machine Learning\",\"Neural Networks\", \"Vision\", \"Robotics\", \n",
    "                       \"Speech Processing\", \"Natural Language Processing\"]\n",
    "        for field in SubfieldsAI:\n",
    "            print(field)\n",
    "            \n",
    "Subfields(\"AI\")"
   ]
  },
  {
   "cell_type": "code",
   "execution_count": 6,
   "id": "d7f8de4c-82d6-462d-a037-0ff8184c7d37",
   "metadata": {},
   "outputs": [
    {
     "name": "stdin",
     "output_type": "stream",
     "text": [
      "Enter the number 3\n"
     ]
    },
    {
     "name": "stdout",
     "output_type": "stream",
     "text": [
      "3 is an Odd Number\n"
     ]
    }
   ],
   "source": [
    "#Function OddEven\n",
    "def OddEven():\n",
    "    num = int(input(\"Enter the number\"))\n",
    "    if((num%2)==1):\n",
    "        print(num, \"is an Odd Number\")\n",
    "        message = \"Odd Number\"\n",
    "    else:\n",
    "        print(num, \"is an Even Number\")\n",
    "        message = \"Even Number\"\n",
    "        return message\n",
    "        \n",
    "OddEven()      "
   ]
  },
  {
   "cell_type": "code",
   "execution_count": 22,
   "id": "6a52bf06-51f4-425c-9f0b-2dd0b340e1dc",
   "metadata": {},
   "outputs": [
    {
     "name": "stdout",
     "output_type": "stream",
     "text": [
      "NOT ELIGIBLE\n"
     ]
    },
    {
     "data": {
      "text/plain": [
       "'NOT ELIGIBLE'"
      ]
     },
     "execution_count": 22,
     "metadata": {},
     "output_type": "execute_result"
    }
   ],
   "source": [
    "#Eligible for Marriage\n",
    "def Eligible(strGender, intAge):\n",
    "    if(strGender==\"Male\"):\n",
    "        if(intAge < 21):\n",
    "            print(\"NOT ELIGIBLE\")\n",
    "            message = \"NOT ELIGIBLE\"\n",
    "        else:\n",
    "            print(\"ELIGIBLE\")\n",
    "            message = \"ELIGIBLE\"\n",
    "            \n",
    "    elif(strGender==\"Female\"):\n",
    "            if(intAge < 18):\n",
    "                print(\"NOT ELIGIBLE\")\n",
    "                message = \"NOT ELIGIBLE\"\n",
    "            else:\n",
    "                print(\"ELIGIBLE\")\n",
    "                message = \"ELIGIBLE\"\n",
    "    return message\n",
    "\n",
    "Eligible(\"Male\", 18)\n"
   ]
  },
  {
   "cell_type": "code",
   "execution_count": 17,
   "id": "10f43f04-154a-4ec9-9ecd-a31b1875b5e7",
   "metadata": {},
   "outputs": [
    {
     "name": "stdin",
     "output_type": "stream",
     "text": [
      "Subject 1 98\n",
      "Subject 2 87\n",
      "Subject 3 95\n",
      "Subject 4 95\n",
      "Subject 5 93\n"
     ]
    },
    {
     "name": "stdout",
     "output_type": "stream",
     "text": [
      "Your Total :  468\n",
      "Your Percentage :  93.6\n"
     ]
    },
    {
     "data": {
      "text/plain": [
       "93.6"
      ]
     },
     "execution_count": 17,
     "metadata": {},
     "output_type": "execute_result"
    }
   ],
   "source": [
    "#Percentage Calculation\n",
    "def Percentage():\n",
    "    intSub1 = int(input(\"Subject 1\"))\n",
    "    intSub2 = int(input(\"Subject 2\"))\n",
    "    intSub3 = int(input(\"Subject 3\"))\n",
    "    intSub4 = int(input(\"Subject 4\"))\n",
    "    intSub5 = int(input(\"Subject 5\"))\n",
    "    Total = intSub1 + intSub2 + intSub3 + intSub4 + intSub5\n",
    "    percentage = Total / 5\n",
    "    print(\"Your Total : \", Total)\n",
    "    print(\"Your Percentage : \", percentage)\n",
    "    return percentage\n",
    "    \n",
    "Percentage()    "
   ]
  },
  {
   "cell_type": "code",
   "execution_count": 24,
   "id": "53678706-3039-460b-b0eb-a3e48ca58959",
   "metadata": {},
   "outputs": [
    {
     "name": "stdin",
     "output_type": "stream",
     "text": [
      "Height :  32\n",
      "Breadth :  34\n"
     ]
    },
    {
     "name": "stdout",
     "output_type": "stream",
     "text": [
      "Area formula: (Height*Breadth)/2\n",
      "Area of Triangle:  544.0\n"
     ]
    },
    {
     "name": "stdin",
     "output_type": "stream",
     "text": [
      "Height1 :  2\n",
      "Height2 :  4\n",
      "Breadth :  4\n"
     ]
    },
    {
     "name": "stdout",
     "output_type": "stream",
     "text": [
      "Perimeter formula: Height1+Height2+Breadth\n",
      "Perimeter of Triangle: 10\n"
     ]
    }
   ],
   "source": [
    "def Triangle():\n",
    "    Height = int(input(\"Height : \"))\n",
    "    Breadth = int(input(\"Breadth : \"))\n",
    "    Area = (Height*Breadth)/2\n",
    "    print(\"Area formula: (Height*Breadth)/2\")\n",
    "    print(\"Area of Triangle: \", Area)\n",
    "    Height1 = int(input(\"Height1 : \"))\n",
    "    Height2 = int(input(\"Height2 : \"))\n",
    "    Breadth1 = int(input(\"Breadth : \"))\n",
    "    Perimeter = Height1+Height2+Breadth1\n",
    "    print(\"Perimeter formula: Height1+Height2+Breadth\")\n",
    "    print(\"Perimeter of Triangle:\", Perimeter)\n",
    "    \n",
    "Triangle() "
   ]
  },
  {
   "cell_type": "code",
   "execution_count": null,
   "id": "2dcd3759-53ed-46e4-975b-a397ad345bec",
   "metadata": {},
   "outputs": [],
   "source": []
  }
 ],
 "metadata": {
  "kernelspec": {
   "display_name": "Python 3 (ipykernel)",
   "language": "python",
   "name": "python3"
  },
  "language_info": {
   "codemirror_mode": {
    "name": "ipython",
    "version": 3
   },
   "file_extension": ".py",
   "mimetype": "text/x-python",
   "name": "python",
   "nbconvert_exporter": "python",
   "pygments_lexer": "ipython3",
   "version": "3.11.7"
  }
 },
 "nbformat": 4,
 "nbformat_minor": 5
}
